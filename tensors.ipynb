{
  "nbformat": 4,
  "nbformat_minor": 0,
  "metadata": {
    "colab": {
      "provenance": [],
      "gpuType": "T4",
      "authorship_tag": "ABX9TyPXkY0WJ0nrOVod8Ym3O67u",
      "include_colab_link": true
    },
    "kernelspec": {
      "name": "python3",
      "display_name": "Python 3"
    },
    "language_info": {
      "name": "python"
    },
    "accelerator": "GPU"
  },
  "cells": [
    {
      "cell_type": "markdown",
      "metadata": {
        "id": "view-in-github",
        "colab_type": "text"
      },
      "source": [
        "<a href=\"https://colab.research.google.com/github/levutb2004/building-a-neural-network/blob/main/tensors.ipynb\" target=\"_parent\"><img src=\"https://colab.research.google.com/assets/colab-badge.svg\" alt=\"Open In Colab\"/></a>"
      ]
    },
    {
      "cell_type": "code",
      "execution_count": 1,
      "metadata": {
        "id": "Fb1bGCOjS40O"
      },
      "outputs": [],
      "source": [
        "import torch\n",
        "import numpy as np"
      ]
    },
    {
      "cell_type": "markdown",
      "source": [
        "NUMPY"
      ],
      "metadata": {
        "id": "aDY9JoZ8VqCF"
      }
    },
    {
      "cell_type": "code",
      "source": [
        "np1 = np.random.rand(3,4)\n",
        "np1"
      ],
      "metadata": {
        "colab": {
          "base_uri": "https://localhost:8080/"
        },
        "id": "td-GwOo2T51Z",
        "outputId": "258bf356-71ac-4aca-9344-6be6590274d3"
      },
      "execution_count": 2,
      "outputs": [
        {
          "output_type": "execute_result",
          "data": {
            "text/plain": [
              "array([[0.72808677, 0.98403077, 0.34568546, 0.37632523],\n",
              "       [0.62646819, 0.67573556, 0.23704693, 0.84494029],\n",
              "       [0.47047565, 0.75544561, 0.94829087, 0.70054152]])"
            ]
          },
          "metadata": {},
          "execution_count": 2
        }
      ]
    },
    {
      "cell_type": "code",
      "source": [
        "np1.dtype"
      ],
      "metadata": {
        "colab": {
          "base_uri": "https://localhost:8080/"
        },
        "id": "UIC3GsXvUT0C",
        "outputId": "5b13e6d4-e7b7-4d09-a40a-049f7c2436bc"
      },
      "execution_count": 3,
      "outputs": [
        {
          "output_type": "execute_result",
          "data": {
            "text/plain": [
              "dtype('float64')"
            ]
          },
          "metadata": {},
          "execution_count": 3
        }
      ]
    },
    {
      "cell_type": "markdown",
      "source": [
        "TENSORS\n"
      ],
      "metadata": {
        "id": "cAAD70mQVhEF"
      }
    },
    {
      "cell_type": "code",
      "source": [
        "tensor_2d = torch.randn(3,4)\n",
        "tensor_2d"
      ],
      "metadata": {
        "colab": {
          "base_uri": "https://localhost:8080/"
        },
        "id": "r5q9uZJeVraL",
        "outputId": "68410c69-dfe8-461a-9dbf-f2fc977d902a"
      },
      "execution_count": 4,
      "outputs": [
        {
          "output_type": "execute_result",
          "data": {
            "text/plain": [
              "tensor([[-1.3174,  0.0545, -0.0318,  0.8469],\n",
              "        [-0.7009,  0.8659,  1.7377,  0.2220],\n",
              "        [-0.2042, -0.0854,  2.5090,  0.4858]])"
            ]
          },
          "metadata": {},
          "execution_count": 4
        }
      ]
    },
    {
      "cell_type": "code",
      "source": [
        "tensor_3d = torch.randn(2,3,4)\n",
        "tensor_3d"
      ],
      "metadata": {
        "colab": {
          "base_uri": "https://localhost:8080/"
        },
        "id": "6WpWq3yhVySy",
        "outputId": "3491393c-3207-474a-f500-74218645df21"
      },
      "execution_count": 5,
      "outputs": [
        {
          "output_type": "execute_result",
          "data": {
            "text/plain": [
              "tensor([[[-1.1370, -0.4906, -1.5932, -1.1708],\n",
              "         [-0.0272, -1.2884,  0.0987,  1.6787],\n",
              "         [ 0.6166,  0.0881,  1.1737,  1.0384]],\n",
              "\n",
              "        [[ 0.5868, -0.1696, -0.0270, -1.1902],\n",
              "         [-0.9248,  1.0897, -0.1553, -0.4332],\n",
              "         [ 0.4701, -2.2563,  0.1579, -0.7502]]])"
            ]
          },
          "metadata": {},
          "execution_count": 5
        }
      ]
    },
    {
      "cell_type": "code",
      "source": [
        "my_tensor = torch.tensor(np1)\n",
        "my_tensor"
      ],
      "metadata": {
        "colab": {
          "base_uri": "https://localhost:8080/"
        },
        "id": "a2yBPxcVawtw",
        "outputId": "3955ff3b-9d2d-4239-80f2-51550a4d748f"
      },
      "execution_count": 6,
      "outputs": [
        {
          "output_type": "execute_result",
          "data": {
            "text/plain": [
              "tensor([[0.7281, 0.9840, 0.3457, 0.3763],\n",
              "        [0.6265, 0.6757, 0.2370, 0.8449],\n",
              "        [0.4705, 0.7554, 0.9483, 0.7005]], dtype=torch.float64)"
            ]
          },
          "metadata": {},
          "execution_count": 6
        }
      ]
    }
  ]
}